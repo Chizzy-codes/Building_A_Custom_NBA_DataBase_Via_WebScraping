{
 "cells": [
  {
   "cell_type": "markdown",
   "metadata": {
    "ExecuteTime": {
     "end_time": "2021-03-18T13:42:45.403002Z",
     "start_time": "2021-03-18T13:42:45.394006Z"
    }
   },
   "source": [
    "# Importing the needed libraries"
   ]
  },
  {
   "cell_type": "code",
   "execution_count": 12,
   "metadata": {
    "ExecuteTime": {
     "end_time": "2021-03-24T00:14:14.647595Z",
     "start_time": "2021-03-24T00:14:14.624586Z"
    }
   },
   "outputs": [],
   "source": [
    "from selenium import webdriver\n",
    "from bs4 import BeautifulSoup\n",
    "from sqlalchemy import create_engine\n",
    "import re\n",
    "import pyodbc\n",
    "import sqlalchemy as sal\n",
    "import pandas as pd\n",
    "import time"
   ]
  },
  {
   "cell_type": "markdown",
   "metadata": {},
   "source": [
    "# Get the Data Via Web Scrapping"
   ]
  },
  {
   "cell_type": "markdown",
   "metadata": {},
   "source": [
    "## Create a player class to store all the information"
   ]
  },
  {
   "cell_type": "code",
   "execution_count": 13,
   "metadata": {
    "ExecuteTime": {
     "end_time": "2021-03-24T00:14:15.294919Z",
     "start_time": "2021-03-24T00:14:15.264923Z"
    }
   },
   "outputs": [],
   "source": [
    "class Player():\n",
    "    def __init__(self):\n",
    "        self.link = ''\n",
    "        self.team_link = ''\n",
    "        self.name = ''\n",
    "        self.team = ''\n",
    "        self.number = ''\n",
    "        self.position = ''\n",
    "        self.height = ''\n",
    "        self.weight = ''\n",
    "        self.last_attended = ''\n",
    "        self.country = ''\n",
    "        self.age = ''\n",
    "        self.birth_date = ''\n",
    "        self.experience = ''\n",
    "        self.draft = ''\n"
   ]
  },
  {
   "cell_type": "markdown",
   "metadata": {},
   "source": [
    "## Create a function that gets a list of all the players"
   ]
  },
  {
   "cell_type": "code",
   "execution_count": 14,
   "metadata": {
    "ExecuteTime": {
     "end_time": "2021-03-24T00:14:15.645519Z",
     "start_time": "2021-03-24T00:14:15.622587Z"
    }
   },
   "outputs": [],
   "source": [
    "driver_path = 'C:\\drivers\\chrome\\chromedriver.exe'\n",
    "site = 'https://www.nba.com/players'\n",
    "web = 'https://www.nba.com'\n",
    "players_list = []\n",
    "\n",
    "position_dict = {'F': 'Foward', 'G': 'Guard', 'C': 'Center', 'C-F': 'Center-Forward', 'G-F': 'Guard-Forward', 'F-G': 'Foward-Guard', 'F-C': 'Foward-Center'}\n",
    "\n",
    "def get_players_list():\n",
    "    \n",
    "    # Download html page\n",
    "\n",
    "    driver = webdriver.Chrome(executable_path=driver_path)\n",
    "    driver.get(site)\n",
    "\n",
    "    # create a soup object with the downloaded html page\n",
    "    soup = BeautifulSoup(driver.page_source, 'lxml')\n",
    "    \n",
    "    # sind the section of the html that contains a player table with \"All\" the players name\n",
    "    \n",
    "    div = soup.find('div', class_='MockStatsTable_statsTable__2edDg')\n",
    "\n",
    "    # get the players table\n",
    "    table = div.find('table', class_='players-list')\n",
    "    \n",
    "    body = table.find('tbody')\n",
    "\n",
    "    # identify each player\n",
    "    for row in body.find_all('tr'):\n",
    "        player = Player()\n",
    "\n",
    "        # Get player link\n",
    "        p_link = row.find('td')\n",
    "        a = p_link.find('a') \n",
    "        player.link = web + a['href']\n",
    "        \n",
    "        # Get team link\n",
    "        t_link = p_link.find_next_sibling()\n",
    "        b = t_link.find('a')\n",
    "        \n",
    "        number_link = t_link.find_next_sibling()\n",
    "        position = number_link.find_next_sibling()\n",
    "        position_text = position.text\n",
    "        \n",
    "        try:\n",
    "            player.team_link = web + b['href']\n",
    "        except:\n",
    "            player.team_link = 'NULL'\n",
    "            player.team = 'NULL'\n",
    "            player.number = 'NULL'\n",
    "            player.position = position_dict[position_text]\n",
    "        \n",
    "        # add player to players list\n",
    "        players_list.append(player)\n",
    "           \n",
    "    return players_list\n",
    "\n"
   ]
  },
  {
   "cell_type": "markdown",
   "metadata": {
    "ExecuteTime": {
     "end_time": "2021-03-23T16:50:28.757866Z",
     "start_time": "2021-03-23T16:50:28.737843Z"
    }
   },
   "source": [
    "## Create a function that updates the properties of each player in a list of players"
   ]
  },
  {
   "cell_type": "code",
   "execution_count": 15,
   "metadata": {
    "ExecuteTime": {
     "end_time": "2021-03-24T00:14:16.118377Z",
     "start_time": "2021-03-24T00:14:16.048367Z"
    }
   },
   "outputs": [],
   "source": [
    "driver_path = 'C:\\drivers\\chrome\\chromedriver.exe'\n",
    "site = 'https://www.nba.com/players'\n",
    "\n",
    "def complete_players_list(players_list):\n",
    "    \n",
    "    driver = webdriver.Chrome(executable_path=driver_path)\n",
    "    count = 1\n",
    "    \n",
    "    for player in players_list:\n",
    "        \n",
    "        # identify the player link\n",
    "        p_site = player.link\n",
    "        print(f'{count} of {len(players_list)} players')\n",
    "        \n",
    "        # go the the link and download the html\n",
    "        driver.get(url=p_site)\n",
    "        \n",
    "        # Create a soup object\n",
    "        soup = BeautifulSoup(driver.page_source, 'lxml')\n",
    "        \n",
    "        # Get the section we are interested in to use as a reference\n",
    "        section = soup.find('section', class_='relative overflow-hidden')\n",
    "        section2 = soup.find('section', class_='relative text-white lg:px-20 PlayerSummary_statsSectionBG__G3Epx')\n",
    "        \n",
    "        # Get team name, position, player\n",
    "        p_tag = section.find('p', class_='t11 md:t2')\n",
    "        \n",
    "        if p_tag:\n",
    "        \n",
    "            text = p_tag.text.split('|')\n",
    "\n",
    "            player.team, player.number, player.position = text\n",
    "            player.number = player.number[2:]\n",
    "            player.position = player.position[1:]\n",
    "\n",
    "        # Get player name\n",
    "        n_text = section.find('p', class_='PlayerSummary_playerNameText__K7ZXO')\n",
    "        name = n_text.text\n",
    "        \n",
    "        nex = n_text.find_next_sibling()\n",
    "        player.name = name + ' ' + nex.text\n",
    "        \n",
    "        # Get the other attributes\n",
    "        # height\n",
    "        \n",
    "        sec = section2.find('div', class_='flex')\n",
    "\n",
    "        part = sec.find_all('div', class_='PlayerSummary_playerInfo__1L8sx')\n",
    "        \n",
    "        at1 = part[0].find('p', 'PlayerSummary_playerInfoValue__mSfou')\n",
    "        car = at1.text\n",
    "        pattern = '[0-9]\\.[0-9]+'\n",
    "        player.height = re.findall(pattern, car)[0]\n",
    "        \n",
    "        #weight\n",
    "        \n",
    "        \n",
    "        at2 = part[1].find('p', 'PlayerSummary_playerInfoValue__mSfou')\n",
    "        car2 = at2.text\n",
    "        pattern2 = '[0-9]+'\n",
    "        player.weight = re.findall(pattern2, car2)[1]\n",
    "        \n",
    "        # country\n",
    "        \n",
    "        \n",
    "        at3 = part[2].find('p', 'PlayerSummary_playerInfoValue__mSfou')\n",
    "        player.country = at3.text\n",
    "        \n",
    "        # last attended\n",
    "\n",
    "        at4 = part[3].find('p', 'PlayerSummary_playerInfoValue__mSfou')\n",
    "        player.last_attended = at4.text\n",
    "        \n",
    "        # Age\n",
    "        \n",
    "        sec2 = section2.find_all('p', 'PlayerSummary_playerInfoValue__mSfou')\n",
    "        \n",
    "        car5 = sec2[4].text\n",
    "        pattern5 = '[0-9]+'\n",
    "        player.age = re.findall(pattern5, car5)[0]\n",
    "        \n",
    "        # birth_date\n",
    "        \n",
    "        player.birth_date = sec2[5].text\n",
    "        \n",
    "        # draft\n",
    "\n",
    "        player.draft = sec2[6].text\n",
    "        \n",
    "        # Experience\n",
    "\n",
    "        car8 = sec2[7].text.split(' ')\n",
    "        player.experience = car8[0]\n",
    "        \n",
    "        print('done!\\n')\n",
    "        count += 1\n",
    "        \n",
    "    driver.quit()\n",
    "    return players_list"
   ]
  },
  {
   "cell_type": "code",
   "execution_count": 16,
   "metadata": {
    "ExecuteTime": {
     "end_time": "2021-03-24T00:18:22.573854Z",
     "start_time": "2021-03-24T00:14:17.471807Z"
    }
   },
   "outputs": [
    {
     "name": "stdout",
     "output_type": "stream",
     "text": [
      "1 of 50 players\n",
      "done!\n",
      "\n",
      "1 of 50 players\n",
      "done!\n",
      "\n",
      "1 of 50 players\n",
      "done!\n",
      "\n",
      "1 of 50 players\n",
      "done!\n",
      "\n",
      "1 of 50 players\n",
      "done!\n",
      "\n",
      "1 of 50 players\n",
      "done!\n",
      "\n",
      "1 of 50 players\n",
      "done!\n",
      "\n",
      "1 of 50 players\n",
      "done!\n",
      "\n",
      "1 of 50 players\n",
      "done!\n",
      "\n",
      "1 of 50 players\n",
      "done!\n",
      "\n",
      "1 of 50 players\n",
      "done!\n",
      "\n",
      "1 of 50 players\n",
      "done!\n",
      "\n",
      "1 of 50 players\n",
      "done!\n",
      "\n",
      "1 of 50 players\n",
      "done!\n",
      "\n",
      "1 of 50 players\n",
      "done!\n",
      "\n",
      "1 of 50 players\n",
      "done!\n",
      "\n",
      "1 of 50 players\n",
      "done!\n",
      "\n",
      "1 of 50 players\n",
      "done!\n",
      "\n",
      "1 of 50 players\n",
      "done!\n",
      "\n",
      "1 of 50 players\n",
      "done!\n",
      "\n",
      "1 of 50 players\n",
      "done!\n",
      "\n",
      "1 of 50 players\n",
      "done!\n",
      "\n",
      "1 of 50 players\n",
      "done!\n",
      "\n",
      "1 of 50 players\n",
      "done!\n",
      "\n",
      "1 of 50 players\n",
      "done!\n",
      "\n",
      "1 of 50 players\n",
      "done!\n",
      "\n",
      "1 of 50 players\n",
      "done!\n",
      "\n",
      "1 of 50 players\n",
      "done!\n",
      "\n",
      "1 of 50 players\n",
      "done!\n",
      "\n",
      "1 of 50 players\n",
      "done!\n",
      "\n",
      "1 of 50 players\n",
      "done!\n",
      "\n",
      "1 of 50 players\n",
      "done!\n",
      "\n",
      "1 of 50 players\n",
      "done!\n",
      "\n",
      "1 of 50 players\n",
      "done!\n",
      "\n",
      "1 of 50 players\n",
      "done!\n",
      "\n",
      "1 of 50 players\n",
      "done!\n",
      "\n",
      "1 of 50 players\n",
      "done!\n",
      "\n",
      "1 of 50 players\n",
      "done!\n",
      "\n",
      "1 of 50 players\n",
      "done!\n",
      "\n",
      "1 of 50 players\n",
      "done!\n",
      "\n",
      "1 of 50 players\n",
      "done!\n",
      "\n",
      "1 of 50 players\n",
      "done!\n",
      "\n",
      "1 of 50 players\n",
      "done!\n",
      "\n",
      "1 of 50 players\n",
      "done!\n",
      "\n",
      "1 of 50 players\n",
      "done!\n",
      "\n",
      "1 of 50 players\n",
      "done!\n",
      "\n",
      "1 of 50 players\n",
      "done!\n",
      "\n",
      "1 of 50 players\n",
      "done!\n",
      "\n",
      "1 of 50 players\n",
      "done!\n",
      "\n",
      "1 of 50 players\n",
      "done!\n",
      "\n"
     ]
    }
   ],
   "source": [
    "completed = complete_players_list(get_players_list())"
   ]
  },
  {
   "cell_type": "code",
   "execution_count": null,
   "metadata": {},
   "outputs": [],
   "source": []
  },
  {
   "cell_type": "code",
   "execution_count": 75,
   "metadata": {
    "ExecuteTime": {
     "end_time": "2021-03-23T23:54:17.130052Z",
     "start_time": "2021-03-23T23:54:01.882836Z"
    }
   },
   "outputs": [
    {
     "name": "stdout",
     "output_type": "stream",
     "text": [
      "1.83\n",
      "2\n",
      "May 4, 1996\n"
     ]
    }
   ],
   "source": [
    " # go the the link and download the html\n",
    "    \n",
    "url = 'https://www.nba.com/player/1629121/jaylen-adams/profile'\n",
    "driver = webdriver.Chrome(executable_path=driver_path)\n",
    "driver.get(url)\n",
    "\n",
    "# Create a soup object\n",
    "soup = BeautifulSoup(driver.page_source, 'lxml')\n",
    "\n",
    "# Get the section we are interested in to use as a reference\n",
    "#section = soup.find('section', class_='relative overflow-hidden')\n",
    "section2 = soup.find('section', class_='relative text-white lg:px-20 PlayerSummary_statsSectionBG__G3Epx')\n",
    "\n",
    "sec = section2.find('div', class_='flex')\n",
    "\n",
    "part = sec.find_all('div', class_='PlayerSummary_playerInfo__1L8sx')\n",
    "at1 = part[0].find('p', 'PlayerSummary_playerInfoValue__mSfou')\n",
    "pattern = '[0-9]\\.[0-9]+'\n",
    "car = at1.text\n",
    "carr = re.findall(pattern, car)[0]\n",
    "\n",
    "\n",
    "sec2 = section2.find_all('p', 'PlayerSummary_playerInfoValue__mSfou')\n",
    "        \n",
    "\n",
    "car8 = sec2[7].text\n",
    "pattern8 = '[0-9]+'\n",
    "carr2 = re.findall(pattern8, car8)[0]\n",
    "\n",
    "# birth_date\n",
    "\n",
    "carr3 = sec2[5].text\n",
    "\n",
    "\n",
    "print(carr)\n",
    "print(carr2)\n",
    "print(carr3)\n",
    "driver.quit()\n"
   ]
  },
  {
   "cell_type": "code",
   "execution_count": 18,
   "metadata": {
    "ExecuteTime": {
     "end_time": "2021-03-24T00:24:02.699603Z",
     "start_time": "2021-03-24T00:24:02.679597Z"
    }
   },
   "outputs": [],
   "source": [
    "# convert scraped data to a pandas dataframe\n",
    "\n",
    "new = [[self.link,self.team_link,self.name,self.team,self.number,self.position,self.height,self.weight,self.last_attended,self.country,self.age,self.birth_date,self.experience,self.draft] for self in completed]\n",
    "\n",
    "df = pd.DataFrame(new, )"
   ]
  },
  {
   "cell_type": "code",
   "execution_count": 21,
   "metadata": {
    "ExecuteTime": {
     "end_time": "2021-03-24T00:24:30.925070Z",
     "start_time": "2021-03-24T00:24:30.828677Z"
    }
   },
   "outputs": [
    {
     "data": {
      "text/html": [
       "<div>\n",
       "<style scoped>\n",
       "    .dataframe tbody tr th:only-of-type {\n",
       "        vertical-align: middle;\n",
       "    }\n",
       "\n",
       "    .dataframe tbody tr th {\n",
       "        vertical-align: top;\n",
       "    }\n",
       "\n",
       "    .dataframe thead th {\n",
       "        text-align: right;\n",
       "    }\n",
       "</style>\n",
       "<table border=\"1\" class=\"dataframe\">\n",
       "  <thead>\n",
       "    <tr style=\"text-align: right;\">\n",
       "      <th></th>\n",
       "      <th>0</th>\n",
       "      <th>1</th>\n",
       "      <th>2</th>\n",
       "      <th>3</th>\n",
       "      <th>4</th>\n",
       "      <th>5</th>\n",
       "      <th>6</th>\n",
       "      <th>7</th>\n",
       "      <th>8</th>\n",
       "      <th>9</th>\n",
       "      <th>10</th>\n",
       "      <th>11</th>\n",
       "      <th>12</th>\n",
       "      <th>13</th>\n",
       "    </tr>\n",
       "  </thead>\n",
       "  <tbody>\n",
       "    <tr>\n",
       "      <th>0</th>\n",
       "      <td>https://www.nba.com/player/1630173/precious-ac...</td>\n",
       "      <td>https://www.nba.com/team/1610612748/heat/</td>\n",
       "      <td>Precious Achiuwa</td>\n",
       "      <td>Miami Heat</td>\n",
       "      <td>5</td>\n",
       "      <td>Forward</td>\n",
       "      <td>2.03</td>\n",
       "      <td>102</td>\n",
       "      <td>Memphis</td>\n",
       "      <td>Nigeria</td>\n",
       "      <td>21</td>\n",
       "      <td>September 19, 1999</td>\n",
       "      <td>Rookie</td>\n",
       "      <td>2020 R1 Pick 20</td>\n",
       "    </tr>\n",
       "    <tr>\n",
       "      <th>1</th>\n",
       "      <td>https://www.nba.com/player/1629121/jaylen-adams/</td>\n",
       "      <td>NULL</td>\n",
       "      <td>Jaylen Adams</td>\n",
       "      <td>NULL</td>\n",
       "      <td>NULL</td>\n",
       "      <td>Guard</td>\n",
       "      <td>1.83</td>\n",
       "      <td>102</td>\n",
       "      <td>St. Bonaventure</td>\n",
       "      <td>USA</td>\n",
       "      <td>24</td>\n",
       "      <td>May 4, 1996</td>\n",
       "      <td>2</td>\n",
       "      <td>Undrafted</td>\n",
       "    </tr>\n",
       "    <tr>\n",
       "      <th>2</th>\n",
       "      <td>https://www.nba.com/player/203500/steven-adams/</td>\n",
       "      <td>https://www.nba.com/team/1610612740/pelicans/</td>\n",
       "      <td>Steven Adams</td>\n",
       "      <td>New Orleans Pelicans</td>\n",
       "      <td>12</td>\n",
       "      <td>Center</td>\n",
       "      <td>2.11</td>\n",
       "      <td>120</td>\n",
       "      <td>Pittsburgh</td>\n",
       "      <td>New Zealand</td>\n",
       "      <td>27</td>\n",
       "      <td>July 20, 1993</td>\n",
       "      <td>7</td>\n",
       "      <td>2013 R1 Pick 12</td>\n",
       "    </tr>\n",
       "    <tr>\n",
       "      <th>3</th>\n",
       "      <td>https://www.nba.com/player/1628389/bam-adebayo/</td>\n",
       "      <td>https://www.nba.com/team/1610612748/heat/</td>\n",
       "      <td>Bam Adebayo</td>\n",
       "      <td>Miami Heat</td>\n",
       "      <td>13</td>\n",
       "      <td>Center-Forward</td>\n",
       "      <td>2.06</td>\n",
       "      <td>116</td>\n",
       "      <td>Kentucky</td>\n",
       "      <td>USA</td>\n",
       "      <td>23</td>\n",
       "      <td>July 18, 1997</td>\n",
       "      <td>3</td>\n",
       "      <td>2017 R1 Pick 14</td>\n",
       "    </tr>\n",
       "    <tr>\n",
       "      <th>4</th>\n",
       "      <td>https://www.nba.com/player/200746/lamarcus-ald...</td>\n",
       "      <td>https://www.nba.com/team/1610612759/spurs/</td>\n",
       "      <td>LaMarcus Aldridge</td>\n",
       "      <td>San Antonio Spurs</td>\n",
       "      <td>12</td>\n",
       "      <td>Center-Forward</td>\n",
       "      <td>2.11</td>\n",
       "      <td>113</td>\n",
       "      <td>Texas</td>\n",
       "      <td>USA</td>\n",
       "      <td>35</td>\n",
       "      <td>July 19, 1985</td>\n",
       "      <td>14</td>\n",
       "      <td>2006 R1 Pick 2</td>\n",
       "    </tr>\n",
       "  </tbody>\n",
       "</table>\n",
       "</div>"
      ],
      "text/plain": [
       "                                                  0   \\\n",
       "0  https://www.nba.com/player/1630173/precious-ac...   \n",
       "1   https://www.nba.com/player/1629121/jaylen-adams/   \n",
       "2    https://www.nba.com/player/203500/steven-adams/   \n",
       "3    https://www.nba.com/player/1628389/bam-adebayo/   \n",
       "4  https://www.nba.com/player/200746/lamarcus-ald...   \n",
       "\n",
       "                                              1                  2   \\\n",
       "0      https://www.nba.com/team/1610612748/heat/   Precious Achiuwa   \n",
       "1                                           NULL       Jaylen Adams   \n",
       "2  https://www.nba.com/team/1610612740/pelicans/       Steven Adams   \n",
       "3      https://www.nba.com/team/1610612748/heat/        Bam Adebayo   \n",
       "4     https://www.nba.com/team/1610612759/spurs/  LaMarcus Aldridge   \n",
       "\n",
       "                      3     4               5     6    7                8   \\\n",
       "0            Miami Heat     5          Forward  2.03  102          Memphis   \n",
       "1                   NULL  NULL           Guard  1.83  102  St. Bonaventure   \n",
       "2  New Orleans Pelicans    12           Center  2.11  120       Pittsburgh   \n",
       "3            Miami Heat    13   Center-Forward  2.06  116         Kentucky   \n",
       "4     San Antonio Spurs    12   Center-Forward  2.11  113            Texas   \n",
       "\n",
       "            9   10                  11      12               13  \n",
       "0      Nigeria  21  September 19, 1999  Rookie  2020 R1 Pick 20  \n",
       "1          USA  24         May 4, 1996       2        Undrafted  \n",
       "2  New Zealand  27       July 20, 1993       7  2013 R1 Pick 12  \n",
       "3          USA  23       July 18, 1997       3  2017 R1 Pick 14  \n",
       "4          USA  35       July 19, 1985      14   2006 R1 Pick 2  "
      ]
     },
     "execution_count": 21,
     "metadata": {},
     "output_type": "execute_result"
    }
   ],
   "source": [
    "df.head()"
   ]
  },
  {
   "cell_type": "code",
   "execution_count": 22,
   "metadata": {
    "ExecuteTime": {
     "end_time": "2021-03-24T00:27:34.722027Z",
     "start_time": "2021-03-24T00:27:34.461143Z"
    }
   },
   "outputs": [
    {
     "name": "stdout",
     "output_type": "stream",
     "text": [
      "<class 'pandas.core.frame.DataFrame'>\n",
      "RangeIndex: 50 entries, 0 to 49\n",
      "Data columns (total 14 columns):\n",
      " #   Column  Non-Null Count  Dtype \n",
      "---  ------  --------------  ----- \n",
      " 0   0       50 non-null     object\n",
      " 1   1       50 non-null     object\n",
      " 2   2       50 non-null     object\n",
      " 3   3       50 non-null     object\n",
      " 4   4       50 non-null     object\n",
      " 5   5       50 non-null     object\n",
      " 6   6       50 non-null     object\n",
      " 7   7       50 non-null     object\n",
      " 8   8       50 non-null     object\n",
      " 9   9       50 non-null     object\n",
      " 10  10      50 non-null     object\n",
      " 11  11      50 non-null     object\n",
      " 12  12      50 non-null     object\n",
      " 13  13      50 non-null     object\n",
      "dtypes: object(14)\n",
      "memory usage: 5.6+ KB\n"
     ]
    }
   ],
   "source": [
    "df.info()"
   ]
  },
  {
   "cell_type": "code",
   "execution_count": 23,
   "metadata": {
    "ExecuteTime": {
     "end_time": "2021-03-24T00:27:35.036247Z",
     "start_time": "2021-03-24T00:27:35.024231Z"
    }
   },
   "outputs": [
    {
     "data": {
      "text/plain": [
       "(50, 14)"
      ]
     },
     "execution_count": 23,
     "metadata": {},
     "output_type": "execute_result"
    }
   ],
   "source": [
    "df.shape"
   ]
  },
  {
   "cell_type": "code",
   "execution_count": null,
   "metadata": {},
   "outputs": [],
   "source": []
  }
 ],
 "metadata": {
  "kernelspec": {
   "display_name": "Python [conda env:tf_gpu]",
   "language": "python",
   "name": "conda-env-tf_gpu-py"
  },
  "language_info": {
   "codemirror_mode": {
    "name": "ipython",
    "version": 3
   },
   "file_extension": ".py",
   "mimetype": "text/x-python",
   "name": "python",
   "nbconvert_exporter": "python",
   "pygments_lexer": "ipython3",
   "version": "3.7.9"
  },
  "toc": {
   "base_numbering": 1,
   "nav_menu": {},
   "number_sections": true,
   "sideBar": true,
   "skip_h1_title": false,
   "title_cell": "Table of Contents",
   "title_sidebar": "Contents",
   "toc_cell": false,
   "toc_position": {},
   "toc_section_display": true,
   "toc_window_display": false
  },
  "varInspector": {
   "cols": {
    "lenName": 16,
    "lenType": 16,
    "lenVar": 40
   },
   "kernels_config": {
    "python": {
     "delete_cmd_postfix": "",
     "delete_cmd_prefix": "del ",
     "library": "var_list.py",
     "varRefreshCmd": "print(var_dic_list())"
    },
    "r": {
     "delete_cmd_postfix": ") ",
     "delete_cmd_prefix": "rm(",
     "library": "var_list.r",
     "varRefreshCmd": "cat(var_dic_list()) "
    }
   },
   "types_to_exclude": [
    "module",
    "function",
    "builtin_function_or_method",
    "instance",
    "_Feature"
   ],
   "window_display": false
  }
 },
 "nbformat": 4,
 "nbformat_minor": 4
}
